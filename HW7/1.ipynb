{
 "cells": [
  {
   "cell_type": "code",
   "execution_count": 1,
   "metadata": {},
   "outputs": [
    {
     "name": "stderr",
     "output_type": "stream",
     "text": [
      "Using TensorFlow backend.\n"
     ]
    },
    {
     "data": {
      "text/plain": [
       "'2.0.8'"
      ]
     },
     "execution_count": 1,
     "metadata": {},
     "output_type": "execute_result"
    }
   ],
   "source": [
    "import keras\n",
    "keras.__version__"
   ]
  },
  {
   "cell_type": "markdown",
   "metadata": {},
   "source": [
    "# Predicting house prices: a regression example\n",
    "\n",
    "This notebook contains the code samples found in Chapter 3, Section 6 of [Deep Learning with Python](https://www.manning.com/books/deep-learning-with-python?a_aid=keras&a_bid=76564dff). Note that the original text features far more content, in particular further explanations and figures: in this notebook, you will only find source code and related comments.\n",
    "\n",
    "----\n",
    "\n",
    "\n",
    "In our two previous examples, we were considering classification problems, where the goal was to predict a single discrete label of an \n",
    "input data point. Another common type of machine learning problem is \"regression\", which consists of predicting a continuous value instead \n",
    "of a discrete label. For instance, predicting the temperature tomorrow, given meteorological data, or predicting the time that a \n",
    "software project will take to complete, given its specifications.\n",
    "\n",
    "Do not mix up \"regression\" with the algorithm \"logistic regression\": confusingly, \"logistic regression\" is not a regression algorithm, \n",
    "it is a classification algorithm."
   ]
  },
  {
   "cell_type": "markdown",
   "metadata": {},
   "source": [
    "## The Boston Housing Price dataset\n",
    "\n",
    "\n",
    "We will be attempting to predict the median price of homes in a given Boston suburb in the mid-1970s, given a few data points about the \n",
    "suburb at the time, such as the crime rate, the local property tax rate, etc.\n",
    "\n",
    "The dataset we will be using has another interesting difference from our two previous examples: it has very few data points, only 506 in \n",
    "total, split between 404 training samples and 102 test samples, and each \"feature\" in the input data (e.g. the crime rate is a feature) has \n",
    "a different scale. For instance some values are proportions, which take a values between 0 and 1, others take values between 1 and 12, \n",
    "others between 0 and 100...\n",
    "\n",
    "Let's take a look at the data:"
   ]
  },
  {
   "cell_type": "code",
   "execution_count": 2,
   "metadata": {
    "collapsed": true
   },
   "outputs": [],
   "source": [
    "from keras.datasets import boston_housing\n",
    "\n",
    "(train_data, train_targets), (test_data, test_targets) =  boston_housing.load_data()"
   ]
  },
  {
   "cell_type": "code",
   "execution_count": 3,
   "metadata": {},
   "outputs": [
    {
     "data": {
      "text/plain": [
       "(404, 13)"
      ]
     },
     "execution_count": 3,
     "metadata": {},
     "output_type": "execute_result"
    }
   ],
   "source": [
    "train_data.shape"
   ]
  },
  {
   "cell_type": "code",
   "execution_count": 4,
   "metadata": {},
   "outputs": [
    {
     "data": {
      "text/plain": [
       "(102, 13)"
      ]
     },
     "execution_count": 4,
     "metadata": {},
     "output_type": "execute_result"
    }
   ],
   "source": [
    "test_data.shape"
   ]
  },
  {
   "cell_type": "markdown",
   "metadata": {},
   "source": [
    "\n",
    "As you can see, we have 404 training samples and 102 test samples. The data comprises 13 features. The 13 features in the input data are as \n",
    "follow:\n",
    "\n",
    "1. Per capita crime rate.\n",
    "2. Proportion of residential land zoned for lots over 25,000 square feet.\n",
    "3. Proportion of non-retail business acres per town.\n",
    "4. Charles River dummy variable (= 1 if tract bounds river; 0 otherwise).\n",
    "5. Nitric oxides concentration (parts per 10 million).\n",
    "6. Average number of rooms per dwelling.\n",
    "7. Proportion of owner-occupied units built prior to 1940.\n",
    "8. Weighted distances to five Boston employment centres.\n",
    "9. Index of accessibility to radial highways.\n",
    "10. Full-value property-tax rate per $10,000.\n",
    "11. Pupil-teacher ratio by town.\n",
    "12. 1000 * (Bk - 0.63) ** 2 where Bk is the proportion of Black people by town.\n",
    "13. % lower status of the population.\n",
    "\n",
    "The targets are the median values of owner-occupied homes, in thousands of dollars:"
   ]
  },
  {
   "cell_type": "code",
   "execution_count": 5,
   "metadata": {},
   "outputs": [
    {
     "data": {
      "text/plain": [
       "array([ 15.2,  42.3,  50. ,  21.1,  17.7,  18.5,  11.3,  15.6,  15.6,\n",
       "        14.4,  12.1,  17.9,  23.1,  19.9,  15.7,   8.8,  50. ,  22.5,\n",
       "        24.1,  27.5,  10.9,  30.8,  32.9,  24. ,  18.5,  13.3,  22.9,\n",
       "        34.7,  16.6,  17.5,  22.3,  16.1,  14.9,  23.1,  34.9,  25. ,\n",
       "        13.9,  13.1,  20.4,  20. ,  15.2,  24.7,  22.2,  16.7,  12.7,\n",
       "        15.6,  18.4,  21. ,  30.1,  15.1,  18.7,   9.6,  31.5,  24.8,\n",
       "        19.1,  22. ,  14.5,  11. ,  32. ,  29.4,  20.3,  24.4,  14.6,\n",
       "        19.5,  14.1,  14.3,  15.6,  10.5,   6.3,  19.3,  19.3,  13.4,\n",
       "        36.4,  17.8,  13.5,  16.5,   8.3,  14.3,  16. ,  13.4,  28.6,\n",
       "        43.5,  20.2,  22. ,  23. ,  20.7,  12.5,  48.5,  14.6,  13.4,\n",
       "        23.7,  50. ,  21.7,  39.8,  38.7,  22.2,  34.9,  22.5,  31.1,\n",
       "        28.7,  46. ,  41.7,  21. ,  26.6,  15. ,  24.4,  13.3,  21.2,\n",
       "        11.7,  21.7,  19.4,  50. ,  22.8,  19.7,  24.7,  36.2,  14.2,\n",
       "        18.9,  18.3,  20.6,  24.6,  18.2,   8.7,  44. ,  10.4,  13.2,\n",
       "        21.2,  37. ,  30.7,  22.9,  20. ,  19.3,  31.7,  32. ,  23.1,\n",
       "        18.8,  10.9,  50. ,  19.6,   5. ,  14.4,  19.8,  13.8,  19.6,\n",
       "        23.9,  24.5,  25. ,  19.9,  17.2,  24.6,  13.5,  26.6,  21.4,\n",
       "        11.9,  22.6,  19.6,   8.5,  23.7,  23.1,  22.4,  20.5,  23.6,\n",
       "        18.4,  35.2,  23.1,  27.9,  20.6,  23.7,  28. ,  13.6,  27.1,\n",
       "        23.6,  20.6,  18.2,  21.7,  17.1,   8.4,  25.3,  13.8,  22.2,\n",
       "        18.4,  20.7,  31.6,  30.5,  20.3,   8.8,  19.2,  19.4,  23.1,\n",
       "        23. ,  14.8,  48.8,  22.6,  33.4,  21.1,  13.6,  32.2,  13.1,\n",
       "        23.4,  18.9,  23.9,  11.8,  23.3,  22.8,  19.6,  16.7,  13.4,\n",
       "        22.2,  20.4,  21.8,  26.4,  14.9,  24.1,  23.8,  12.3,  29.1,\n",
       "        21. ,  19.5,  23.3,  23.8,  17.8,  11.5,  21.7,  19.9,  25. ,\n",
       "        33.4,  28.5,  21.4,  24.3,  27.5,  33.1,  16.2,  23.3,  48.3,\n",
       "        22.9,  22.8,  13.1,  12.7,  22.6,  15. ,  15.3,  10.5,  24. ,\n",
       "        18.5,  21.7,  19.5,  33.2,  23.2,   5. ,  19.1,  12.7,  22.3,\n",
       "        10.2,  13.9,  16.3,  17. ,  20.1,  29.9,  17.2,  37.3,  45.4,\n",
       "        17.8,  23.2,  29. ,  22. ,  18. ,  17.4,  34.6,  20.1,  25. ,\n",
       "        15.6,  24.8,  28.2,  21.2,  21.4,  23.8,  31. ,  26.2,  17.4,\n",
       "        37.9,  17.5,  20. ,   8.3,  23.9,   8.4,  13.8,   7.2,  11.7,\n",
       "        17.1,  21.6,  50. ,  16.1,  20.4,  20.6,  21.4,  20.6,  36.5,\n",
       "         8.5,  24.8,  10.8,  21.9,  17.3,  18.9,  36.2,  14.9,  18.2,\n",
       "        33.3,  21.8,  19.7,  31.6,  24.8,  19.4,  22.8,   7.5,  44.8,\n",
       "        16.8,  18.7,  50. ,  50. ,  19.5,  20.1,  50. ,  17.2,  20.8,\n",
       "        19.3,  41.3,  20.4,  20.5,  13.8,  16.5,  23.9,  20.6,  31.5,\n",
       "        23.3,  16.8,  14. ,  33.8,  36.1,  12.8,  18.3,  18.7,  19.1,\n",
       "        29. ,  30.1,  50. ,  50. ,  22. ,  11.9,  37.6,  50. ,  22.7,\n",
       "        20.8,  23.5,  27.9,  50. ,  19.3,  23.9,  22.6,  15.2,  21.7,\n",
       "        19.2,  43.8,  20.3,  33.2,  19.9,  22.5,  32.7,  22. ,  17.1,\n",
       "        19. ,  15. ,  16.1,  25.1,  23.7,  28.7,  37.2,  22.6,  16.4,\n",
       "        25. ,  29.8,  22.1,  17.4,  18.1,  30.3,  17.5,  24.7,  12.6,\n",
       "        26.5,  28.7,  13.3,  10.4,  24.4,  23. ,  20. ,  17.8,   7. ,\n",
       "        11.8,  24.4,  13.8,  19.4,  25.2,  19.4,  19.4,  29.1])"
      ]
     },
     "execution_count": 5,
     "metadata": {},
     "output_type": "execute_result"
    }
   ],
   "source": [
    "train_targets"
   ]
  },
  {
   "cell_type": "markdown",
   "metadata": {},
   "source": [
    "\n",
    "The prices are typically between \\$10,000 and \\$50,000. If that sounds cheap, remember this was the mid-1970s, and these prices are not \n",
    "inflation-adjusted."
   ]
  },
  {
   "cell_type": "markdown",
   "metadata": {},
   "source": [
    "## Preparing the data\n",
    "\n",
    "\n",
    "It would be problematic to feed into a neural network values that all take wildly different ranges. The network might be able to \n",
    "automatically adapt to such heterogeneous data, but it would definitely make learning more difficult. A widespread best practice to deal \n",
    "with such data is to do feature-wise normalization: for each feature in the input data (a column in the input data matrix), we \n",
    "will subtract the mean of the feature and divide by the standard deviation, so that the feature will be centered around 0 and will have a \n",
    "unit standard deviation. This is easily done in Numpy:"
   ]
  },
  {
   "cell_type": "code",
   "execution_count": 6,
   "metadata": {
    "collapsed": true
   },
   "outputs": [],
   "source": [
    "mean = train_data.mean(axis=0)\n",
    "train_data -= mean\n",
    "std = train_data.std(axis=0)\n",
    "train_data /= std\n",
    "\n",
    "test_data -= mean\n",
    "test_data /= std"
   ]
  },
  {
   "cell_type": "markdown",
   "metadata": {},
   "source": [
    "\n",
    "Note that the quantities that we use for normalizing the test data have been computed using the training data. We should never use in our \n",
    "workflow any quantity computed on the test data, even for something as simple as data normalization."
   ]
  },
  {
   "cell_type": "markdown",
   "metadata": {},
   "source": [
    "## Building our network\n",
    "\n",
    "\n",
    "Because so few samples are available, we will be using a very small network with two \n",
    "hidden layers, each with 64 units. In general, the less training data you have, the worse overfitting will be, and using \n",
    "a small network is one way to mitigate overfitting."
   ]
  },
  {
   "cell_type": "code",
   "execution_count": 7,
   "metadata": {
    "collapsed": true
   },
   "outputs": [],
   "source": [
    "from keras import models\n",
    "from keras import layers\n",
    "\n",
    "def build_model():\n",
    "    # Because we will need to instantiate\n",
    "    # the same model multiple times,\n",
    "    # we use a function to construct it.\n",
    "    model = models.Sequential()\n",
    "    model.add(layers.Dense(64, activation='relu',\n",
    "                           input_shape=(train_data.shape[1],)))\n",
    "    model.add(layers.Dense(64, activation='relu'))\n",
    "    model.add(layers.Dense(1))\n",
    "    model.compile(optimizer='rmsprop', loss='mse', metrics=['mae'])\n",
    "    return model"
   ]
  },
  {
   "cell_type": "markdown",
   "metadata": {},
   "source": [
    "\n",
    "Our network ends with a single unit, and no activation (i.e. it will be linear layer). \n",
    "This is a typical setup for scalar regression (i.e. regression where we are trying to predict a single continuous value). \n",
    "Applying an activation function would constrain the range that the output can take; for instance if \n",
    "we applied a `sigmoid` activation function to our last layer, the network could only learn to predict values between 0 and 1. Here, because \n",
    "the last layer is purely linear, the network is free to learn to predict values in any range.\n",
    "\n",
    "Note that we are compiling the network with the `mse` loss function -- Mean Squared Error, the square of the difference between the \n",
    "predictions and the targets, a widely used loss function for regression problems.\n",
    "\n",
    "We are also monitoring a new metric during training: `mae`. This stands for Mean Absolute Error. It is simply the absolute value of the \n",
    "difference between the predictions and the targets. For instance, a MAE of 0.5 on this problem would mean that our predictions are off by \n",
    "\\$500 on average."
   ]
  },
  {
   "cell_type": "markdown",
   "metadata": {},
   "source": [
    "## Validating our approach using K-fold validation\n",
    "\n",
    "\n",
    "To evaluate our network while we keep adjusting its parameters (such as the number of epochs used for training), we could simply split the \n",
    "data into a training set and a validation set, as we were doing in our previous examples. However, because we have so few data points, the \n",
    "validation set would end up being very small (e.g. about 100 examples). A consequence is that our validation scores may change a lot \n",
    "depending on _which_ data points we choose to use for validation and which we choose for training, i.e. the validation scores may have a \n",
    "high _variance_ with regard to the validation split. This would prevent us from reliably evaluating our model.\n",
    "\n",
    "The best practice in such situations is to use K-fold cross-validation. It consists of splitting the available data into K partitions \n",
    "(typically K=4 or 5), then instantiating K identical models, and training each one on K-1 partitions while evaluating on the remaining \n",
    "partition. The validation score for the model used would then be the average of the K validation scores obtained."
   ]
  },
  {
   "cell_type": "markdown",
   "metadata": {},
   "source": [
    "In terms of code, this is straightforward:"
   ]
  },
  {
   "cell_type": "code",
   "execution_count": 8,
   "metadata": {},
   "outputs": [
    {
     "name": "stdout",
     "output_type": "stream",
     "text": [
      "processing fold # 0\n",
      "processing fold # 1\n",
      "processing fold # 2\n",
      "processing fold # 3\n"
     ]
    }
   ],
   "source": [
    "import numpy as np\n",
    "\n",
    "k = 4\n",
    "num_val_samples = len(train_data) // k\n",
    "num_epochs = 100\n",
    "all_scores = []\n",
    "for i in range(k):\n",
    "    print('processing fold #', i)\n",
    "    # Prepare the validation data: data from partition # k\n",
    "    val_data = train_data[i * num_val_samples: (i + 1) * num_val_samples]\n",
    "    val_targets = train_targets[i * num_val_samples: (i + 1) * num_val_samples]\n",
    "\n",
    "    # Prepare the training data: data from all other partitions\n",
    "    partial_train_data = np.concatenate(\n",
    "        [train_data[:i * num_val_samples],\n",
    "         train_data[(i + 1) * num_val_samples:]],\n",
    "        axis=0)\n",
    "    partial_train_targets = np.concatenate(\n",
    "        [train_targets[:i * num_val_samples],\n",
    "         train_targets[(i + 1) * num_val_samples:]],\n",
    "        axis=0)\n",
    "\n",
    "    # Build the Keras model (already compiled)\n",
    "    model = build_model()\n",
    "    # Train the model (in silent mode, verbose=0)\n",
    "    model.fit(partial_train_data, partial_train_targets,\n",
    "              epochs=num_epochs, batch_size=1, verbose=0)\n",
    "    # Evaluate the model on the validation data\n",
    "    val_mse, val_mae = model.evaluate(val_data, val_targets, verbose=0)\n",
    "    all_scores.append(val_mae)"
   ]
  },
  {
   "cell_type": "code",
   "execution_count": 9,
   "metadata": {},
   "outputs": [
    {
     "data": {
      "text/plain": [
       "[2.0750808349930412, 2.117215852926273, 2.9140411863232605, 2.4288365227161068]"
      ]
     },
     "execution_count": 9,
     "metadata": {},
     "output_type": "execute_result"
    }
   ],
   "source": [
    "all_scores"
   ]
  },
  {
   "cell_type": "code",
   "execution_count": 10,
   "metadata": {},
   "outputs": [
    {
     "data": {
      "text/plain": [
       "2.3837935992396706"
      ]
     },
     "execution_count": 10,
     "metadata": {},
     "output_type": "execute_result"
    }
   ],
   "source": [
    "np.mean(all_scores)"
   ]
  },
  {
   "cell_type": "markdown",
   "metadata": {},
   "source": [
    "\n",
    "As you can notice, the different runs do indeed show rather different validation scores, from 2.1 to 2.9. Their average (2.4) is a much more \n",
    "reliable metric than any single of these scores -- that's the entire point of K-fold cross-validation. In this case, we are off by \\$2,400 on \n",
    "average, which is still significant considering that the prices range from \\$10,000 to \\$50,000. \n",
    "\n",
    "Let's try training the network for a bit longer: 500 epochs. To keep a record of how well the model did at each epoch, we will modify our training loop \n",
    "to save the per-epoch validation score log:"
   ]
  },
  {
   "cell_type": "code",
   "execution_count": 21,
   "metadata": {
    "collapsed": true
   },
   "outputs": [],
   "source": [
    "from keras import backend as K\n",
    "\n",
    "# Some memory clean-up\n",
    "K.clear_session()"
   ]
  },
  {
   "cell_type": "code",
   "execution_count": 22,
   "metadata": {},
   "outputs": [
    {
     "name": "stdout",
     "output_type": "stream",
     "text": [
      "processing fold # 0\n",
      "processing fold # 1\n",
      "processing fold # 2\n",
      "processing fold # 3\n"
     ]
    }
   ],
   "source": [
    "num_epochs = 500\n",
    "all_mae_histories = []\n",
    "for i in range(k):\n",
    "    print('processing fold #', i)\n",
    "    # Prepare the validation data: data from partition # k\n",
    "    val_data = train_data[i * num_val_samples: (i + 1) * num_val_samples]\n",
    "    val_targets = train_targets[i * num_val_samples: (i + 1) * num_val_samples]\n",
    "\n",
    "    # Prepare the training data: data from all other partitions\n",
    "    partial_train_data = np.concatenate(\n",
    "        [train_data[:i * num_val_samples],\n",
    "         train_data[(i + 1) * num_val_samples:]],\n",
    "        axis=0)\n",
    "    partial_train_targets = np.concatenate(\n",
    "        [train_targets[:i * num_val_samples],\n",
    "         train_targets[(i + 1) * num_val_samples:]],\n",
    "        axis=0)\n",
    "\n",
    "    # Build the Keras model (already compiled)\n",
    "    model = build_model()\n",
    "    # Train the model (in silent mode, verbose=0)\n",
    "    history = model.fit(partial_train_data, partial_train_targets,\n",
    "                        validation_data=(val_data, val_targets),\n",
    "                        epochs=num_epochs, batch_size=1, verbose=0)\n",
    "    mae_history = history.history['val_mean_absolute_error']\n",
    "    all_mae_histories.append(mae_history)"
   ]
  },
  {
   "cell_type": "markdown",
   "metadata": {},
   "source": [
    "We can then compute the average of the per-epoch MAE scores for all folds:"
   ]
  },
  {
   "cell_type": "code",
   "execution_count": 23,
   "metadata": {
    "collapsed": true
   },
   "outputs": [],
   "source": [
    "average_mae_history = [\n",
    "    np.mean([x[i] for x in all_mae_histories]) for i in range(num_epochs)]"
   ]
  },
  {
   "cell_type": "markdown",
   "metadata": {},
   "source": [
    "Let's plot this:"
   ]
  },
  {
   "cell_type": "code",
   "execution_count": 26,
   "metadata": {},
   "outputs": [
    {
     "data": {
      "image/png": "iVBORw0KGgoAAAANSUhEUgAAAYUAAAEKCAYAAAD9xUlFAAAABHNCSVQICAgIfAhkiAAAAAlwSFlz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\n8uhFY7nksJJWv8bh5Ica3Td+n8GeIi1