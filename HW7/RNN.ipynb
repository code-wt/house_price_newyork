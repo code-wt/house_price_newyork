{
 "cells": [
  {
   "cell_type": "code",
   "execution_count": 1,
   "metadata": {},
   "outputs": [],
   "source": [
    "import torch\n",
    "import torch.nn as nn\n",
    "\n",
    "import seaborn as sns\n",
    "import numpy as np\n",
    "import pandas as pd\n",
    "import matplotlib.pyplot as plt\n",
    "%matplotlib inline"
   ]
  },
  {
   "cell_type": "code",
   "execution_count": 2,
   "metadata": {},
   "outputs": [
    {
     "name": "stdout",
     "output_type": "stream",
     "text": [
      "(21597, 3)\n",
      "         date     price  yr_built\n",
      "0   3/12/2015  530000.0      1900\n",
      "1  11/21/2014  740500.0      1900\n",
      "2   8/18/2014  625000.0      1900\n",
      "3   12/4/2014  595000.0      1900\n",
      "4  12/19/2014  485000.0      1900\n"
     ]
    }
   ],
   "source": [
    "df=pd.read_csv('housing.csv')\n",
    "print(df.shape)\n",
    "print(df.head()) #默认打印前五行"
   ]
  },
  {
   "cell_type": "code",
   "execution_count": 3,
   "metadata": {},
   "outputs": [
    {
     "name": "stdout",
     "output_type": "stream",
     "text": [
      "[530000. 740500. 625000. 595000. 485000. 565000. 352950. 440000. 712000.\n",
      " 490000.]\n"
     ]
    }
   ],
   "source": [
    "all_data = df['price'].values.astype(float) #取值后 将类型改为float\n",
    "print(all_data[:10])"
   ]
  },
  {
   "cell_type": "code",
   "execution_count": 4,
   "metadata": {},
   "outputs": [],
   "source": [
    "#将后面的1597条作为测试，前面的2w条作为训练\n",
    "test_data_size = 1597\n",
    "\n",
    "train_data = all_data[:-test_data_size]\n",
    "test_data = all_data[-test_data_size:]"
   ]
  },
  {
   "cell_type": "code",
   "execution_count": 5,
   "metadata": {},
   "outputs": [
    {
     "name": "stdout",
     "output_type": "stream",
     "text": [
      "[[-0.88139596]\n",
      " [-0.82616111]\n",
      " [-0.85646812]\n",
      " [-0.86434007]\n",
      " [-0.89320388]]\n",
      "[[-0.60062976]\n",
      " [-0.14143269]\n",
      " [-0.82366833]\n",
      " [-0.54815009]\n",
      " [-0.88926791]]\n"
     ]
    }
   ],
   "source": [
    "from sklearn.preprocessing import MinMaxScaler\n",
    "#将训练集进行归一化\n",
    "scaler = MinMaxScaler(feature_range=(-1, 1))\n",
    "train_data_normalized = scaler.fit_transform(train_data.reshape(-1, 1))\n",
    "print(train_data_normalized[:5])\n",
    "print(train_data_normalized[-5:])"
   ]
  },
  {
   "cell_type": "code",
   "execution_count": 6,
   "metadata": {},
   "outputs": [
    {
     "name": "stdout",
     "output_type": "stream",
     "text": [
      "torch.Size([20000])\n"
     ]
    }
   ],
   "source": [
    "#将训练样本进行转换成tensor\n",
    "train_data_normalized = torch.FloatTensor(train_data_normalized).view(-1)\n",
    "print(train_data_normalized.shape)"
   ]
  },
  {
   "cell_type": "code",
   "execution_count": 7,
   "metadata": {},
   "outputs": [
    {
     "name": "stdout",
     "output_type": "stream",
     "text": [
      "[(tensor([-0.8814, -0.8262, -0.8565, -0.8643, -0.8932, -0.8722, -0.9279, -0.9050,\n",
      "        -0.8336, -0.8919, -0.7528, -0.9089, -0.8895, -0.8987, -0.9076]), tensor([-0.8407])), (tensor([-0.8262, -0.8565, -0.8643, -0.8932, -0.8722, -0.9279, -0.9050, -0.8336,\n",
      "        -0.8919, -0.7528, -0.9089, -0.8895, -0.8987, -0.9076, -0.8407]), tensor([-0.8213]))]\n"
     ]
    }
   ],
   "source": [
    "#选择窗口大小\n",
    "train_window = 15 #自己设置 用前15个预测第16个\n",
    "def create_inout_sequences(input_data, tw):\n",
    "    inout_seq = []\n",
    "    L = len(input_data)\n",
    "    for i in range(L-tw):\n",
    "        train_seq = input_data[i:i+tw]\n",
    "        train_label = input_data[i+tw:i+tw+1]\n",
    "        inout_seq.append((train_seq,train_label))\n",
    "    return inout_seq\n",
    "\n",
    "train_inout_seq = create_inout_sequences(train_data_normalized, train_window)\n",
    "print(train_inout_seq[:2])"
   ]
  },
  {
   "cell_type": "code",
   "execution_count": 8,
   "metadata": {},
   "outputs": [],
   "source": [
    "from torch.utils.data import DataLoader"
   ]
  },
  {
   "cell_type": "code",
   "execution_count": 9,
   "metadata": {},
   "outputs": [
    {
     "data": {
      "text/plain": [
       "<torch.utils.data.dataloader.DataLoader at 0x2842513bdc8>"
      ]
     },
     "execution_count": 9,
     "metadata": {},
     "output_type": "execute_result"
    }
   ],
   "source": [
    "train_loader = DataLoader(dataset=train_inout_seq, \n",
    "                          batch_size=64, #批量大小\n",
    "                          shuffle=True)\n",
    "train_loader"
   ]
  },
  {
   "cell_type": "code",
   "execution_count": 10,
   "metadata": {},
   "outputs": [
    {
     "name": "stdout",
     "output_type": "stream",
     "text": [
      "RNN(\n",
      "  (rnn): RNN(15, 64)\n",
      "  (linear): Linear(in_features=64, out_features=1, bias=True)\n",
      ")\n"
     ]
    }
   ],
   "source": [
    "class RNN(nn.Module):\n",
    "    def __init__(self, input_size=15, hidden_layer_size=64, output_size=1):\n",
    "        super().__init__()\n",
    "        self.hidden_layer_size = hidden_layer_size #看一下隐层结果\n",
    "\n",
    "        self.rnn = nn.RNN(input_size, hidden_layer_size)\n",
    "\n",
    "        self.linear = nn.Linear(hidden_layer_size, output_size)\n",
    "\n",
    "        \n",
    "#         self.batch_size = batch_size\n",
    "                            \n",
    "\n",
    "    def forward(self, input_seq):\n",
    "        self.hidden_cell = torch.zeros(1,input_seq.shape[0],self.hidden_layer_size) #1：层数，1 64 64 hidden cell\n",
    "        rnn_out, self.hidden_cell = self.rnn(input_seq.view(-1,input_seq.shape[0],input_seq.shape[1]), self.hidden_cell)\n",
    "        predictions = self.linear(rnn_out.view(len(input_seq), -1))\n",
    "        return predictions[-1]\n",
    "model = RNN()\n",
    "loss_function = nn.MSELoss()\n",
    "optimizer = torch.optim.Adam(model.parameters(), lr=0.001)\n",
    "print(model)"
   ]
  },
  {
   "cell_type": "code",
   "execution_count": 11,
   "metadata": {},
   "outputs": [
    {
     "name": "stderr",
     "output_type": "stream",
     "text": [
      "C:\\Users\\haydee\\Anaconda3\\lib\\site-packages\\torch\\nn\\modules\\loss.py:431: UserWarning: Using a target size (torch.Size([64, 1])) that is different to the input size (torch.Size([1])). This will likely lead to incorrect results due to broadcasting. Please ensure they have the same size.\n",
      "  return F.mse_loss(input, target, reduction=self.reduction)\n",
      "C:\\Users\\haydee\\Anaconda3\\lib\\site-packages\\torch\\nn\\modules\\loss.py:431: UserWarning: Using a target size (torch.Size([17, 1])) that is different to the input size (torch.Size([1])). This will likely lead to incorrect results due to broadcasting. Please ensure they have the same size.\n",
      "  return F.mse_loss(input, target, reduction=self.reduction)\n"
     ]
    },
    {
     "name": "stdout",
     "output_type": "stream",
     "text": [
      "epoch:   1 loss: 0.00725872\n",
      "epoch:   3 loss: 0.00607895\n",
      "epoch:   5 loss: 0.00403136\n",
      "epoch:   7 loss: 0.00572256\n",
      "epoch:   9 loss: 0.00407876\n"
     ]
    }
   ],
   "source": [
    "#训练模型\n",
    "epochs = 10\n",
    "\n",
    "for i in range(epochs):\n",
    "    for seq, labels in train_loader:\n",
    "#         print(seq.shape,len(labels))\n",
    "        optimizer.zero_grad()\n",
    "        model.hidden_cell = torch.zeros(1, seq.shape[0], model.hidden_layer_size)\n",
    "\n",
    "        y_pred = model(seq)\n",
    "\n",
    "        single_loss = loss_function(y_pred, labels)\n",
    "        single_loss.backward()\n",
    "        optimizer.step()\n",
    "\n",
    "    if i%2 == 1:\n",
    "        print(f'epoch: {i:3} loss: {single_loss.item():10.8f}')"
   ]
  },
  {
   "cell_type": "code",
   "execution_count": 12,
   "metadata": {},
   "outputs": [
    {
     "name": "stdout",
     "output_type": "stream",
     "text": [
      "[-0.9181317090988159, -0.8367882370948792, -0.8979270458221436, -0.9057990312576294, -0.7790606021881104, -0.8472973108291626, -0.882707953453064, -0.8813959360122681, -0.9194437265396118, -0.9242324829101562, -0.6006297469139099, -0.14143268764019012, -0.8236683011054993, -0.5481500625610352, -0.8892679214477539]\n"
     ]
    }
   ],
   "source": [
    "fut_pred = test_data_size\n",
    "\n",
    "test_inputs = train_data_normalized[-train_window:].tolist()\n",
    "print(test_inputs)"
   ]
  },
  {
   "cell_type": "code",
   "execution_count": 13,
   "metadata": {},
   "outputs": [],
   "source": [
    "model.eval()\n",
    "\n",
    "for i in range(fut_pred):\n",
    "    seq = torch.FloatTensor(test_inputs[-train_window:])\n",
    "    seq = seq.view(-1,len(seq))\n",
    "#     print(seq.shape)\n",
    "    with torch.no_grad():\n",
    "        model.hidden = torch.zeros(1, seq.shape[0], model.hidden_layer_size) # (num_layers, batch_size, hidden_size)\n",
    "                        \n",
    "        test_inputs.append(model(seq).item())\n",
    "#         print(test_inputs)\n",
    "#         print('====================================')\n"
   ]
  },
  {
   "cell_type": "code",
   "execution_count": 14,
   "metadata": {},
   "outputs": [
    {
     "data": {
      "text/plain": [
       "array([[712458.02408457],\n",
       "       [732146.99077606],\n",
       "       [721866.03236198],\n",
       "       ...,\n",
       "       [598638.09227943],\n",
       "       [598638.09227943],\n",
       "       [598638.09227943]])"
      ]
     },
     "execution_count": 14,
     "metadata": {},
     "output_type": "execute_result"
    }
   ],
   "source": [
    "actual_predictions = scaler.inverse_transform(np.array(test_inputs[train_window:] ).reshape(-1, 1))\n",
    "actual_predictions"
   ]
  },
  {
   "cell_type": "code",
   "execution_count": null,
   "metadata": {
    "collapsed": true
   },
   "outputs": [],
   "source": []
  }
 ],
 "metadata": {
  "kernelspec": {
   "display_name": "Python 3",
   "language": "python",
   "name": "python3"
  },
  "language_info": {
   "codemirror_mode": {
    "name": "ipython",
    "version": 3
   },
   "file_extension": ".py",
   "mimetype": "text/x-python",
   "name": "python",
   "nbconvert_exporter": "python",
   "pygments_lexer": "ipython3",
   "version": "3.7.4"
  }
 },
 "nbformat": 4,
 "nbformat_minor": 2
}
